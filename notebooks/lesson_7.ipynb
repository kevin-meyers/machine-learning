{
 "cells": [
  {
   "cell_type": "code",
   "execution_count": 1,
   "metadata": {},
   "outputs": [],
   "source": [
    "import numpy as np"
   ]
  },
  {
   "cell_type": "code",
   "execution_count": 11,
   "metadata": {},
   "outputs": [],
   "source": [
    "def dot_of(a, b):\n",
    "    summed = 0\n",
    "    for i in range(a.shape[0]):\n",
    "        for j in range(a.shape[1]):\n",
    "            print(i, j, a[i][j], b[j][i])\n",
    "    \n",
    "    return summed"
   ]
  },
  {
   "cell_type": "code",
   "execution_count": 14,
   "metadata": {},
   "outputs": [],
   "source": [
    "A = np.array([[2, 0], [1, 5]])\n",
    "B = np.array([3, 4])"
   ]
  },
  {
   "cell_type": "code",
   "execution_count": 15,
   "metadata": {},
   "outputs": [],
   "source": [
    "eig_val, eig_vec = np.linalg.eig(A)"
   ]
  },
  {
   "cell_type": "code",
   "execution_count": 16,
   "metadata": {},
   "outputs": [
    {
     "data": {
      "text/plain": [
       "array([5., 2.])"
      ]
     },
     "execution_count": 16,
     "metadata": {},
     "output_type": "execute_result"
    }
   ],
   "source": [
    "eig_val"
   ]
  },
  {
   "cell_type": "code",
   "execution_count": 17,
   "metadata": {},
   "outputs": [
    {
     "data": {
      "text/plain": [
       "array([[ 0.        ,  0.9486833 ],\n",
       "       [ 1.        , -0.31622777]])"
      ]
     },
     "execution_count": 17,
     "metadata": {},
     "output_type": "execute_result"
    }
   ],
   "source": [
    "eig_vec"
   ]
  },
  {
   "cell_type": "code",
   "execution_count": 19,
   "metadata": {},
   "outputs": [
    {
     "data": {
      "text/plain": [
       "array([1.8973666 , 4.36754447])"
      ]
     },
     "execution_count": 19,
     "metadata": {},
     "output_type": "execute_result"
    }
   ],
   "source": [
    "np.dot(eig_val, eig_vec)"
   ]
  },
  {
   "cell_type": "code",
   "execution_count": 20,
   "metadata": {},
   "outputs": [
    {
     "data": {
      "text/plain": [
       "array([1.8973666 , 4.36754447])"
      ]
     },
     "execution_count": 20,
     "metadata": {},
     "output_type": "execute_result"
    }
   ],
   "source": [
    "np.dot(eig_vec, eig_val)"
   ]
  },
  {
   "cell_type": "code",
   "execution_count": 21,
   "metadata": {},
   "outputs": [],
   "source": [
    "import pandas as pd"
   ]
  },
  {
   "cell_type": "code",
   "execution_count": 44,
   "metadata": {
    "scrolled": true
   },
   "outputs": [
    {
     "data": {
      "text/html": [
       "<div>\n",
       "<style scoped>\n",
       "    .dataframe tbody tr th:only-of-type {\n",
       "        vertical-align: middle;\n",
       "    }\n",
       "\n",
       "    .dataframe tbody tr th {\n",
       "        vertical-align: top;\n",
       "    }\n",
       "\n",
       "    .dataframe thead th {\n",
       "        text-align: right;\n",
       "    }\n",
       "</style>\n",
       "<table border=\"1\" class=\"dataframe\">\n",
       "  <thead>\n",
       "    <tr style=\"text-align: right;\">\n",
       "      <th></th>\n",
       "      <th>England</th>\n",
       "      <th>N Ireland</th>\n",
       "      <th>Scotland</th>\n",
       "      <th>Wales</th>\n",
       "      <th>Features</th>\n",
       "    </tr>\n",
       "  </thead>\n",
       "  <tbody>\n",
       "    <tr>\n",
       "      <th>0</th>\n",
       "      <td>375</td>\n",
       "      <td>135</td>\n",
       "      <td>458</td>\n",
       "      <td>475</td>\n",
       "      <td>Alcoholic drinks</td>\n",
       "    </tr>\n",
       "    <tr>\n",
       "      <th>1</th>\n",
       "      <td>57</td>\n",
       "      <td>47</td>\n",
       "      <td>53</td>\n",
       "      <td>73</td>\n",
       "      <td>Beverages</td>\n",
       "    </tr>\n",
       "    <tr>\n",
       "      <th>2</th>\n",
       "      <td>245</td>\n",
       "      <td>267</td>\n",
       "      <td>242</td>\n",
       "      <td>227</td>\n",
       "      <td>Carcase meat</td>\n",
       "    </tr>\n",
       "    <tr>\n",
       "      <th>3</th>\n",
       "      <td>1472</td>\n",
       "      <td>1494</td>\n",
       "      <td>1462</td>\n",
       "      <td>1582</td>\n",
       "      <td>Cereals</td>\n",
       "    </tr>\n",
       "    <tr>\n",
       "      <th>4</th>\n",
       "      <td>105</td>\n",
       "      <td>66</td>\n",
       "      <td>103</td>\n",
       "      <td>103</td>\n",
       "      <td>Cheese</td>\n",
       "    </tr>\n",
       "    <tr>\n",
       "      <th>5</th>\n",
       "      <td>54</td>\n",
       "      <td>41</td>\n",
       "      <td>62</td>\n",
       "      <td>64</td>\n",
       "      <td>Confectionery</td>\n",
       "    </tr>\n",
       "    <tr>\n",
       "      <th>6</th>\n",
       "      <td>193</td>\n",
       "      <td>209</td>\n",
       "      <td>184</td>\n",
       "      <td>235</td>\n",
       "      <td>Fats and oils</td>\n",
       "    </tr>\n",
       "    <tr>\n",
       "      <th>7</th>\n",
       "      <td>147</td>\n",
       "      <td>93</td>\n",
       "      <td>122</td>\n",
       "      <td>160</td>\n",
       "      <td>Fish</td>\n",
       "    </tr>\n",
       "    <tr>\n",
       "      <th>8</th>\n",
       "      <td>1102</td>\n",
       "      <td>674</td>\n",
       "      <td>957</td>\n",
       "      <td>1137</td>\n",
       "      <td>Fresh fruit</td>\n",
       "    </tr>\n",
       "    <tr>\n",
       "      <th>9</th>\n",
       "      <td>720</td>\n",
       "      <td>1033</td>\n",
       "      <td>566</td>\n",
       "      <td>874</td>\n",
       "      <td>Fresh potatoes</td>\n",
       "    </tr>\n",
       "    <tr>\n",
       "      <th>10</th>\n",
       "      <td>253</td>\n",
       "      <td>143</td>\n",
       "      <td>171</td>\n",
       "      <td>265</td>\n",
       "      <td>Fresh Veg</td>\n",
       "    </tr>\n",
       "    <tr>\n",
       "      <th>11</th>\n",
       "      <td>685</td>\n",
       "      <td>586</td>\n",
       "      <td>750</td>\n",
       "      <td>803</td>\n",
       "      <td>Other meat</td>\n",
       "    </tr>\n",
       "    <tr>\n",
       "      <th>12</th>\n",
       "      <td>488</td>\n",
       "      <td>355</td>\n",
       "      <td>418</td>\n",
       "      <td>570</td>\n",
       "      <td>Other Veg</td>\n",
       "    </tr>\n",
       "    <tr>\n",
       "      <th>13</th>\n",
       "      <td>198</td>\n",
       "      <td>187</td>\n",
       "      <td>220</td>\n",
       "      <td>203</td>\n",
       "      <td>Processed potatoes</td>\n",
       "    </tr>\n",
       "    <tr>\n",
       "      <th>14</th>\n",
       "      <td>360</td>\n",
       "      <td>334</td>\n",
       "      <td>337</td>\n",
       "      <td>365</td>\n",
       "      <td>Processed Veg</td>\n",
       "    </tr>\n",
       "    <tr>\n",
       "      <th>15</th>\n",
       "      <td>1374</td>\n",
       "      <td>1506</td>\n",
       "      <td>1572</td>\n",
       "      <td>1256</td>\n",
       "      <td>Soft drinks</td>\n",
       "    </tr>\n",
       "    <tr>\n",
       "      <th>16</th>\n",
       "      <td>156</td>\n",
       "      <td>139</td>\n",
       "      <td>147</td>\n",
       "      <td>175</td>\n",
       "      <td>Sugars</td>\n",
       "    </tr>\n",
       "  </tbody>\n",
       "</table>\n",
       "</div>"
      ],
      "text/plain": [
       "    England  N Ireland  Scotland  Wales            Features\n",
       "0       375        135       458    475    Alcoholic drinks\n",
       "1        57         47        53     73           Beverages\n",
       "2       245        267       242    227        Carcase meat\n",
       "3      1472       1494      1462   1582             Cereals\n",
       "4       105         66       103    103              Cheese\n",
       "5        54         41        62     64       Confectionery\n",
       "6       193        209       184    235       Fats and oils\n",
       "7       147         93       122    160                Fish\n",
       "8      1102        674       957   1137         Fresh fruit\n",
       "9       720       1033       566    874      Fresh potatoes\n",
       "10      253        143       171    265           Fresh Veg\n",
       "11      685        586       750    803          Other meat\n",
       "12      488        355       418    570           Other Veg\n",
       "13      198        187       220    203  Processed potatoes\n",
       "14      360        334       337    365       Processed Veg\n",
       "15     1374       1506      1572   1256         Soft drinks\n",
       "16      156        139       147    175              Sugars"
      ]
     },
     "execution_count": 44,
     "metadata": {},
     "output_type": "execute_result"
    }
   ],
   "source": [
    "df"
   ]
  },
  {
   "cell_type": "code",
   "execution_count": 23,
   "metadata": {},
   "outputs": [],
   "source": [
    "df = pd.read_excel('data/pca_uk.xlsx')"
   ]
  },
  {
   "cell_type": "code",
   "execution_count": 32,
   "metadata": {},
   "outputs": [],
   "source": [
    "X = df.loc[:, df.columns[:-1]].values"
   ]
  },
  {
   "cell_type": "code",
   "execution_count": 33,
   "metadata": {
    "scrolled": false
   },
   "outputs": [
    {
     "data": {
      "text/plain": [
       "array([[ 375,  135,  458,  475],\n",
       "       [  57,   47,   53,   73],\n",
       "       [ 245,  267,  242,  227],\n",
       "       [1472, 1494, 1462, 1582],\n",
       "       [ 105,   66,  103,  103],\n",
       "       [  54,   41,   62,   64],\n",
       "       [ 193,  209,  184,  235],\n",
       "       [ 147,   93,  122,  160],\n",
       "       [1102,  674,  957, 1137],\n",
       "       [ 720, 1033,  566,  874],\n",
       "       [ 253,  143,  171,  265],\n",
       "       [ 685,  586,  750,  803],\n",
       "       [ 488,  355,  418,  570],\n",
       "       [ 198,  187,  220,  203],\n",
       "       [ 360,  334,  337,  365],\n",
       "       [1374, 1506, 1572, 1256],\n",
       "       [ 156,  139,  147,  175]])"
      ]
     },
     "execution_count": 33,
     "metadata": {},
     "output_type": "execute_result"
    }
   ],
   "source": [
    "X"
   ]
  },
  {
   "cell_type": "code",
   "execution_count": 38,
   "metadata": {},
   "outputs": [],
   "source": [
    "from sklearn.decomposition import PCA\n",
    "import matplotlib.pyplot as plt"
   ]
  },
  {
   "cell_type": "code",
   "execution_count": 36,
   "metadata": {},
   "outputs": [],
   "source": [
    "pca = PCA(n_components=2)"
   ]
  },
  {
   "cell_type": "code",
   "execution_count": 45,
   "metadata": {},
   "outputs": [],
   "source": [
    "transformed = pca.fit_transform(X.T)"
   ]
  },
  {
   "cell_type": "code",
   "execution_count": 46,
   "metadata": {},
   "outputs": [
    {
     "data": {
      "text/plain": [
       "array([[-144.99315218,   -2.53299944],\n",
       "       [ 477.39163882,  -58.90186182],\n",
       "       [ -91.869339  ,  286.08178613],\n",
       "       [-240.52914764, -224.64692488]])"
      ]
     },
     "execution_count": 46,
     "metadata": {},
     "output_type": "execute_result"
    }
   ],
   "source": [
    "transformed"
   ]
  },
  {
   "cell_type": "code",
   "execution_count": 50,
   "metadata": {},
   "outputs": [
    {
     "data": {
      "image/png": "[encoded data removed]",
      "text/plain": [
       "<Figure size 432x288 with 1 Axes>"
      ]
     },
     "metadata": {
      "needs_background": "light"
     },
     "output_type": "display_data"
    }
   ],
   "source": [
    "plt.scatter(transformed[:, 0], transformed[:, 1])\n",
    "for name, (x, y) in zip(df.columns[:-1], transformed):\n",
    "    plt.text(x, y, name)"
   ]
  },
  {
   "cell_type": "code",
   "execution_count": 51,
   "metadata": {},
   "outputs": [],
   "source": [
    "def r(items):\n",
    "    return items[::-1]"
   ]
  },
  {
   "cell_type": "code",
   "execution_count": 52,
   "metadata": {},
   "outputs": [
    {
     "data": {
      "text/plain": [
       "[4, 3, 2]"
      ]
     },
     "execution_count": 52,
     "metadata": {},
     "output_type": "execute_result"
    }
   ],
   "source": [
    "r([2, 3, 4])"
   ]
  },
  {
   "cell_type": "code",
   "execution_count": 148,
   "metadata": {},
   "outputs": [],
   "source": [
    "def center_matrix(X):\n",
    "    return np.array([X[:, col_num] - np.mean(X[:, col_num]) for col_num in range(X.shape[1])]).T"
   ]
  },
  {
   "cell_type": "code",
   "execution_count": 155,
   "metadata": {},
   "outputs": [],
   "source": [
    "def pca(X, n_components=2):\n",
    "    centered = center_matrix(X)\n",
    "    print(centered)\n",
    "    eig_val, eig_vec = np.linalg.eig(np.cov(centered))\n",
    "    sorted_vals = np.argsort(eig_val)[-n_components:][::-1]\n",
    "    print(sorted_vals)\n",
    "    print(\"eig vec\", eig_vec[:, sorted_vals])\n",
    "    print(\"centered\", centered)\n",
    "    return np.dot(eig_vec[:, sorted_vals].T, centered)"
   ]
  },
  {
   "cell_type": "code",
   "execution_count": 156,
   "metadata": {},
   "outputs": [
    {
     "name": "stdout",
     "output_type": "stream",
     "text": [
      "[[ 0.   -1.5  -0.75]\n",
      " [ 0.   -0.5  -0.75]\n",
      " [ 0.    0.5   0.25]\n",
      " [ 0.    1.5   1.25]]\n",
      "[0 1]\n",
      "eig vec [[-0.63281645  0.59122191]\n",
      " [-0.27179185 -0.71376644]\n",
      " [ 0.21093882 -0.19707397]\n",
      " [ 0.69366948  0.3196185 ]]\n",
      "centered [[ 0.   -1.5  -0.75]\n",
      " [ 0.   -0.5  -0.75]\n",
      " [ 0.    0.5   0.25]\n",
      " [ 0.    1.5   1.25]]\n"
     ]
    },
    {
     "data": {
      "text/plain": [
       "array([[ 0.        ,  2.23109423,  1.59827778],\n",
       "       [ 0.        , -0.14905888,  0.44216303]])"
      ]
     },
     "execution_count": 156,
     "metadata": {},
     "output_type": "execute_result"
    }
   ],
   "source": [
    "pca(A)"
   ]
  },
  {
   "cell_type": "code",
   "execution_count": 157,
   "metadata": {},
   "outputs": [
    {
     "data": {
      "text/plain": [
       "array([[-0.63281645,  0.59122191, -0.03786412,  0.37621558],\n",
       "       [-0.27179185, -0.71376644,  0.36921189,  0.64511685],\n",
       "       [ 0.21093882, -0.19707397, -0.85201612, -0.16158696],\n",
       "       [ 0.69366948,  0.3196185 ,  0.36921189,  0.64511685]])"
      ]
     },
     "execution_count": 157,
     "metadata": {},
     "output_type": "execute_result"
    }
   ],
   "source": [
    "eig_vec"
   ]
  },
  {
   "cell_type": "code",
   "execution_count": 151,
   "metadata": {},
   "outputs": [
    {
     "data": {
      "text/plain": [
       "array([[1, 1, 1],\n",
       "       [1, 2, 1],\n",
       "       [1, 3, 2],\n",
       "       [1, 4, 3]])"
      ]
     },
     "execution_count": 151,
     "metadata": {},
     "output_type": "execute_result"
    }
   ],
   "source": [
    "A"
   ]
  },
  {
   "cell_type": "code",
   "execution_count": 131,
   "metadata": {},
   "outputs": [
    {
     "data": {
      "text/plain": [
       "array([[-1.65392786, -0.2775295 ],\n",
       "       [-0.84584087,  0.31153366],\n",
       "       [ 0.55130929,  0.09250983],\n",
       "       [ 1.94845944, -0.126514  ]])"
      ]
     },
     "execution_count": 131,
     "metadata": {},
     "output_type": "execute_result"
    }
   ],
   "source": [
    "PCA(n_components=2).fit_transform(A)"
   ]
  },
  {
   "cell_type": "code",
   "execution_count": 104,
   "metadata": {},
   "outputs": [
    {
     "data": {
      "text/plain": [
       "array([2, 3, 1, 0])"
      ]
     },
     "execution_count": 104,
     "metadata": {},
     "output_type": "execute_result"
    }
   ],
   "source": [
    "np.argsort(eig_val)"
   ]
  },
  {
   "cell_type": "code",
   "execution_count": 123,
   "metadata": {},
   "outputs": [
    {
     "data": {
      "text/plain": [
       "array([[-0.63281645,  0.59122191, -0.03786412,  0.37621558],\n",
       "       [-0.27179185, -0.71376644,  0.36921189,  0.64511685],\n",
       "       [ 0.21093882, -0.19707397, -0.85201612, -0.16158696],\n",
       "       [ 0.69366948,  0.3196185 ,  0.36921189,  0.64511685]])"
      ]
     },
     "execution_count": 123,
     "metadata": {},
     "output_type": "execute_result"
    }
   ],
   "source": [
    "eig_vec"
   ]
  },
  {
   "cell_type": "code",
   "execution_count": 122,
   "metadata": {},
   "outputs": [
    {
     "data": {
      "text/plain": [
       "array([[ 0.59122191, -0.03786412],\n",
       "       [-0.71376644,  0.36921189],\n",
       "       [-0.19707397, -0.85201612],\n",
       "       [ 0.3196185 ,  0.36921189]])"
      ]
     },
     "execution_count": 122,
     "metadata": {},
     "output_type": "execute_result"
    }
   ],
   "source": [
    "eig_vec[:, [1, 2]]"
   ]
  },
  {
   "cell_type": "code",
   "execution_count": 79,
   "metadata": {
    "scrolled": true
   },
   "outputs": [
    {
     "data": {
      "text/plain": [
       "array([1.32212166e+00, 9.45450057e-02, 3.99762102e-18, 7.89185006e-17])"
      ]
     },
     "execution_count": 79,
     "metadata": {},
     "output_type": "execute_result"
    }
   ],
   "source": [
    "eig_val"
   ]
  },
  {
   "cell_type": "code",
   "execution_count": 80,
   "metadata": {},
   "outputs": [
    {
     "data": {
      "text/plain": [
       "array([[-0.63281645,  0.59122191, -0.03786412,  0.37621558],\n",
       "       [-0.27179185, -0.71376644,  0.36921189,  0.64511685],\n",
       "       [ 0.21093882, -0.19707397, -0.85201612, -0.16158696],\n",
       "       [ 0.69366948,  0.3196185 ,  0.36921189,  0.64511685]])"
      ]
     },
     "execution_count": 80,
     "metadata": {},
     "output_type": "execute_result"
    }
   ],
   "source": [
    "eig_vec"
   ]
  },
  {
   "cell_type": "code",
   "execution_count": 76,
   "metadata": {},
   "outputs": [
    {
     "data": {
      "text/plain": [
       "array([[ 0.  , -1.5 , -0.75],\n",
       "       [ 0.  , -0.5 , -0.75],\n",
       "       [ 0.  ,  0.5 ,  0.25],\n",
       "       [ 0.  ,  1.5 ,  1.25]])"
      ]
     },
     "execution_count": 76,
     "metadata": {},
     "output_type": "execute_result"
    }
   ],
   "source": [
    "center_matrix(A)"
   ]
  },
  {
   "cell_type": "code",
   "execution_count": 56,
   "metadata": {},
   "outputs": [],
   "source": [
    "A = np.array([\n",
    "    [1, 1, 1], \n",
    "    [1, 2, 1], \n",
    "    [1, 3, 2], \n",
    "    [1, 4, 3]]\n",
    ")"
   ]
  },
  {
   "cell_type": "code",
   "execution_count": null,
   "metadata": {},
   "outputs": [],
   "source": [
    "0, 1 | 0, 2 | 1, 2 | 0, 0"
   ]
  },
  {
   "cell_type": "code",
   "execution_count": 59,
   "metadata": {},
   "outputs": [
    {
     "data": {
      "text/plain": [
       "2.5"
      ]
     },
     "execution_count": 59,
     "metadata": {},
     "output_type": "execute_result"
    }
   ],
   "source": [
    "10/ 4"
   ]
  },
  {
   "cell_type": "code",
   "execution_count": null,
   "metadata": {},
   "outputs": [],
   "source": [
    "split dataset\n",
    "apply pca on x_train and obtain number of pc -> pca.explained_variance_ratio().cumsum()\n",
    "apply data normalization\n",
    "fit linear model\n",
    "obtain x_test scaled reduced\n",
    "predict on x_test"
   ]
  }
 ],
 "metadata": {
  "kernelspec": {
   "display_name": "Python 3",
   "language": "python",
   "name": "python3"
  },
  "language_info": {
   "codemirror_mode": {
    "name": "ipython",
    "version": 3
   },
   "file_extension": ".py",
   "mimetype": "text/x-python",
   "name": "python",
   "nbconvert_exporter": "python",
   "pygments_lexer": "ipython3",
   "version": "3.7.5"
  }
 },
 "nbformat": 4,
 "nbformat_minor": 4
}
